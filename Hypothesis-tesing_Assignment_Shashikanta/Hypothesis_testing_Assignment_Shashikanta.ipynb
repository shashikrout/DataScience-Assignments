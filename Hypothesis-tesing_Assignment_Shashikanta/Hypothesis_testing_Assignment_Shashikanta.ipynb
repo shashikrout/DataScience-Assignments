{
 "cells": [
  {
   "cell_type": "markdown",
   "id": "38a557f7",
   "metadata": {},
   "source": [
    "# Question 1"
   ]
  },
  {
   "cell_type": "markdown",
   "id": "2f14fbc2",
   "metadata": {},
   "source": [
    "# Hypothesis Testing Exercise\n",
    "\n",
    "### A F&B manager wants to determine whether there is any significant difference in the diameter of the cutlet between two units. A randomly selected sample of cutlets was collected from both units and measured? Analyze the data and draw inferences at 5% significance level. Please state the assumptions and tests that you carried out to check validity of the assumptions."
   ]
  },
  {
   "cell_type": "code",
   "execution_count": 1,
   "id": "438430b2",
   "metadata": {},
   "outputs": [],
   "source": [
    "import pandas as pd\n",
    "import numpy as np\n",
    "import scipy.stats as stats"
   ]
  },
  {
   "cell_type": "code",
   "execution_count": 3,
   "id": "fb7a244f",
   "metadata": {},
   "outputs": [],
   "source": [
    "\n"
   ]
  },
  {
   "cell_type": "markdown",
   "id": "7de933e1",
   "metadata": {},
   "source": [
    " **Significance 5%**   \n",
    " **alpha = 0.05**"
   ]
  },
  {
   "cell_type": "markdown",
   "id": "e0f30b52",
   "metadata": {},
   "source": [
    "**Ho: mu_1 = mu_2**    \n",
    "**H1: mu_1 != mu_2**"
   ]
  },
  {
   "cell_type": "code",
   "execution_count": 5,
   "id": "d77a5f94",
   "metadata": {},
   "outputs": [
    {
     "data": {
      "text/html": [
       "<div>\n",
       "<style scoped>\n",
       "    .dataframe tbody tr th:only-of-type {\n",
       "        vertical-align: middle;\n",
       "    }\n",
       "\n",
       "    .dataframe tbody tr th {\n",
       "        vertical-align: top;\n",
       "    }\n",
       "\n",
       "    .dataframe thead th {\n",
       "        text-align: right;\n",
       "    }\n",
       "</style>\n",
       "<table border=\"1\" class=\"dataframe\">\n",
       "  <thead>\n",
       "    <tr style=\"text-align: right;\">\n",
       "      <th></th>\n",
       "      <th>Unit A</th>\n",
       "      <th>Unit B</th>\n",
       "    </tr>\n",
       "  </thead>\n",
       "  <tbody>\n",
       "    <tr>\n",
       "      <th>0</th>\n",
       "      <td>6.8090</td>\n",
       "      <td>6.7703</td>\n",
       "    </tr>\n",
       "    <tr>\n",
       "      <th>1</th>\n",
       "      <td>6.4376</td>\n",
       "      <td>7.5093</td>\n",
       "    </tr>\n",
       "    <tr>\n",
       "      <th>2</th>\n",
       "      <td>6.9157</td>\n",
       "      <td>6.7300</td>\n",
       "    </tr>\n",
       "    <tr>\n",
       "      <th>3</th>\n",
       "      <td>7.3012</td>\n",
       "      <td>6.7878</td>\n",
       "    </tr>\n",
       "    <tr>\n",
       "      <th>4</th>\n",
       "      <td>7.4488</td>\n",
       "      <td>7.1522</td>\n",
       "    </tr>\n",
       "  </tbody>\n",
       "</table>\n",
       "</div>"
      ],
      "text/plain": [
       "   Unit A  Unit B\n",
       "0  6.8090  6.7703\n",
       "1  6.4376  7.5093\n",
       "2  6.9157  6.7300\n",
       "3  7.3012  6.7878\n",
       "4  7.4488  7.1522"
      ]
     },
     "execution_count": 5,
     "metadata": {},
     "output_type": "execute_result"
    }
   ],
   "source": [
    "cutlet = pd.read_csv(\"Cutlets.csv\")\n",
    "cutlet.head()"
   ]
  },
  {
   "cell_type": "code",
   "execution_count": 7,
   "id": "77571bc7",
   "metadata": {},
   "outputs": [
    {
     "data": {
      "text/html": [
       "<div>\n",
       "<style scoped>\n",
       "    .dataframe tbody tr th:only-of-type {\n",
       "        vertical-align: middle;\n",
       "    }\n",
       "\n",
       "    .dataframe tbody tr th {\n",
       "        vertical-align: top;\n",
       "    }\n",
       "\n",
       "    .dataframe thead th {\n",
       "        text-align: right;\n",
       "    }\n",
       "</style>\n",
       "<table border=\"1\" class=\"dataframe\">\n",
       "  <thead>\n",
       "    <tr style=\"text-align: right;\">\n",
       "      <th></th>\n",
       "      <th>Unit A</th>\n",
       "      <th>Unit B</th>\n",
       "    </tr>\n",
       "  </thead>\n",
       "  <tbody>\n",
       "    <tr>\n",
       "      <th>count</th>\n",
       "      <td>35.000000</td>\n",
       "      <td>35.000000</td>\n",
       "    </tr>\n",
       "    <tr>\n",
       "      <th>mean</th>\n",
       "      <td>7.019091</td>\n",
       "      <td>6.964297</td>\n",
       "    </tr>\n",
       "    <tr>\n",
       "      <th>std</th>\n",
       "      <td>0.288408</td>\n",
       "      <td>0.343401</td>\n",
       "    </tr>\n",
       "    <tr>\n",
       "      <th>min</th>\n",
       "      <td>6.437600</td>\n",
       "      <td>6.038000</td>\n",
       "    </tr>\n",
       "    <tr>\n",
       "      <th>25%</th>\n",
       "      <td>6.831500</td>\n",
       "      <td>6.753600</td>\n",
       "    </tr>\n",
       "    <tr>\n",
       "      <th>50%</th>\n",
       "      <td>6.943800</td>\n",
       "      <td>6.939900</td>\n",
       "    </tr>\n",
       "    <tr>\n",
       "      <th>75%</th>\n",
       "      <td>7.280550</td>\n",
       "      <td>7.195000</td>\n",
       "    </tr>\n",
       "    <tr>\n",
       "      <th>max</th>\n",
       "      <td>7.516900</td>\n",
       "      <td>7.545900</td>\n",
       "    </tr>\n",
       "  </tbody>\n",
       "</table>\n",
       "</div>"
      ],
      "text/plain": [
       "          Unit A     Unit B\n",
       "count  35.000000  35.000000\n",
       "mean    7.019091   6.964297\n",
       "std     0.288408   0.343401\n",
       "min     6.437600   6.038000\n",
       "25%     6.831500   6.753600\n",
       "50%     6.943800   6.939900\n",
       "75%     7.280550   7.195000\n",
       "max     7.516900   7.545900"
      ]
     },
     "execution_count": 7,
     "metadata": {},
     "output_type": "execute_result"
    }
   ],
   "source": [
    "cutlet.describe()"
   ]
  },
  {
   "cell_type": "code",
   "execution_count": 12,
   "id": "7d257d42",
   "metadata": {},
   "outputs": [
    {
     "name": "stdout",
     "output_type": "stream",
     "text": [
      "0.4722394724599501\n"
     ]
    }
   ],
   "source": [
    "p = stats.ttest_ind(cutlet['Unit A'],cutlet['Unit B'])[1]\n",
    "print(p)"
   ]
  },
  {
   "cell_type": "code",
   "execution_count": 13,
   "id": "d2fea2ce",
   "metadata": {},
   "outputs": [
    {
     "name": "stdout",
     "output_type": "stream",
     "text": [
      "accept Ho mu of Unit A is equal to mu of Unit B\n"
     ]
    }
   ],
   "source": [
    "if (p > 0.05):\n",
    "    print(\"accept Ho mu of Unit A is equal to mu of Unit B\")\n",
    "else:\n",
    "    print(\"reject H0  mu of Unit A is not equal to mu of Unit B\")"
   ]
  },
  {
   "cell_type": "code",
   "execution_count": 15,
   "id": "4f1fa364",
   "metadata": {},
   "outputs": [
    {
     "name": "stdout",
     "output_type": "stream",
     "text": [
      "fail to reject Null hypothesis\n"
     ]
    }
   ],
   "source": [
    "#it is a two-tailed test\n",
    "# alpha/2 = 0.025\n",
    "\n",
    "alpha = 0.025\n",
    "if p <= alpha:\n",
    "    print('reject Null Hypothesis there is a significance difference between two Units A and B')\n",
    "else:\n",
    "    print('fail to reject Null hypothesis')"
   ]
  },
  {
   "cell_type": "markdown",
   "id": "3e0844bf",
   "metadata": {},
   "source": [
    "# Question 2"
   ]
  },
  {
   "attachments": {},
   "cell_type": "markdown",
   "id": "b1f45e79",
   "metadata": {},
   "source": [
    "# Hypothesis Testing Exercise"
   ]
  },
  {
   "cell_type": "markdown",
   "id": "f9379dd7",
   "metadata": {},
   "source": [
    "### A hospital wants to determine whether there is any difference in the average Turn Around Time (TAT) of reports of the laboratories on their preferred list. They collected a random sample and recorded TAT for reports of 4 laboratories. TAT is defined as sample collected to report dispatch.\n",
    "   \n",
    "### Analyze the data and determine whether there is any difference in average TAT among the different laboratories at 5% significance level."
   ]
  },
  {
   "cell_type": "code",
   "execution_count": 16,
   "id": "718aafe9",
   "metadata": {},
   "outputs": [
    {
     "data": {
      "text/html": [
       "<div>\n",
       "<style scoped>\n",
       "    .dataframe tbody tr th:only-of-type {\n",
       "        vertical-align: middle;\n",
       "    }\n",
       "\n",
       "    .dataframe tbody tr th {\n",
       "        vertical-align: top;\n",
       "    }\n",
       "\n",
       "    .dataframe thead th {\n",
       "        text-align: right;\n",
       "    }\n",
       "</style>\n",
       "<table border=\"1\" class=\"dataframe\">\n",
       "  <thead>\n",
       "    <tr style=\"text-align: right;\">\n",
       "      <th></th>\n",
       "      <th>Laboratory 1</th>\n",
       "      <th>Laboratory 2</th>\n",
       "      <th>Laboratory 3</th>\n",
       "      <th>Laboratory 4</th>\n",
       "    </tr>\n",
       "  </thead>\n",
       "  <tbody>\n",
       "    <tr>\n",
       "      <th>0</th>\n",
       "      <td>185.35</td>\n",
       "      <td>165.53</td>\n",
       "      <td>176.70</td>\n",
       "      <td>166.13</td>\n",
       "    </tr>\n",
       "    <tr>\n",
       "      <th>1</th>\n",
       "      <td>170.49</td>\n",
       "      <td>185.91</td>\n",
       "      <td>198.45</td>\n",
       "      <td>160.79</td>\n",
       "    </tr>\n",
       "    <tr>\n",
       "      <th>2</th>\n",
       "      <td>192.77</td>\n",
       "      <td>194.92</td>\n",
       "      <td>201.23</td>\n",
       "      <td>185.18</td>\n",
       "    </tr>\n",
       "    <tr>\n",
       "      <th>3</th>\n",
       "      <td>177.33</td>\n",
       "      <td>183.00</td>\n",
       "      <td>199.61</td>\n",
       "      <td>176.42</td>\n",
       "    </tr>\n",
       "    <tr>\n",
       "      <th>4</th>\n",
       "      <td>193.41</td>\n",
       "      <td>169.57</td>\n",
       "      <td>204.63</td>\n",
       "      <td>152.60</td>\n",
       "    </tr>\n",
       "  </tbody>\n",
       "</table>\n",
       "</div>"
      ],
      "text/plain": [
       "   Laboratory 1  Laboratory 2  Laboratory 3  Laboratory 4\n",
       "0        185.35        165.53        176.70        166.13\n",
       "1        170.49        185.91        198.45        160.79\n",
       "2        192.77        194.92        201.23        185.18\n",
       "3        177.33        183.00        199.61        176.42\n",
       "4        193.41        169.57        204.63        152.60"
      ]
     },
     "execution_count": 16,
     "metadata": {},
     "output_type": "execute_result"
    }
   ],
   "source": [
    "labtat = pd.read_csv(\"LabTAT.csv\")\n",
    "labtat.head()"
   ]
  },
  {
   "cell_type": "code",
   "execution_count": 17,
   "id": "6d85ff6e",
   "metadata": {},
   "outputs": [
    {
     "data": {
      "text/html": [
       "<div>\n",
       "<style scoped>\n",
       "    .dataframe tbody tr th:only-of-type {\n",
       "        vertical-align: middle;\n",
       "    }\n",
       "\n",
       "    .dataframe tbody tr th {\n",
       "        vertical-align: top;\n",
       "    }\n",
       "\n",
       "    .dataframe thead th {\n",
       "        text-align: right;\n",
       "    }\n",
       "</style>\n",
       "<table border=\"1\" class=\"dataframe\">\n",
       "  <thead>\n",
       "    <tr style=\"text-align: right;\">\n",
       "      <th></th>\n",
       "      <th>Laboratory 1</th>\n",
       "      <th>Laboratory 2</th>\n",
       "      <th>Laboratory 3</th>\n",
       "      <th>Laboratory 4</th>\n",
       "    </tr>\n",
       "  </thead>\n",
       "  <tbody>\n",
       "    <tr>\n",
       "      <th>count</th>\n",
       "      <td>120.000000</td>\n",
       "      <td>120.000000</td>\n",
       "      <td>120.000000</td>\n",
       "      <td>120.00000</td>\n",
       "    </tr>\n",
       "    <tr>\n",
       "      <th>mean</th>\n",
       "      <td>178.361583</td>\n",
       "      <td>178.902917</td>\n",
       "      <td>199.913250</td>\n",
       "      <td>163.68275</td>\n",
       "    </tr>\n",
       "    <tr>\n",
       "      <th>std</th>\n",
       "      <td>13.173594</td>\n",
       "      <td>14.957114</td>\n",
       "      <td>16.539033</td>\n",
       "      <td>15.08508</td>\n",
       "    </tr>\n",
       "    <tr>\n",
       "      <th>min</th>\n",
       "      <td>138.300000</td>\n",
       "      <td>140.550000</td>\n",
       "      <td>159.690000</td>\n",
       "      <td>124.06000</td>\n",
       "    </tr>\n",
       "    <tr>\n",
       "      <th>25%</th>\n",
       "      <td>170.335000</td>\n",
       "      <td>168.025000</td>\n",
       "      <td>188.232500</td>\n",
       "      <td>154.05000</td>\n",
       "    </tr>\n",
       "    <tr>\n",
       "      <th>50%</th>\n",
       "      <td>178.530000</td>\n",
       "      <td>178.870000</td>\n",
       "      <td>199.805000</td>\n",
       "      <td>164.42500</td>\n",
       "    </tr>\n",
       "    <tr>\n",
       "      <th>75%</th>\n",
       "      <td>186.535000</td>\n",
       "      <td>189.112500</td>\n",
       "      <td>211.332500</td>\n",
       "      <td>172.88250</td>\n",
       "    </tr>\n",
       "    <tr>\n",
       "      <th>max</th>\n",
       "      <td>216.390000</td>\n",
       "      <td>217.860000</td>\n",
       "      <td>238.700000</td>\n",
       "      <td>205.18000</td>\n",
       "    </tr>\n",
       "  </tbody>\n",
       "</table>\n",
       "</div>"
      ],
      "text/plain": [
       "       Laboratory 1  Laboratory 2  Laboratory 3  Laboratory 4\n",
       "count    120.000000    120.000000    120.000000     120.00000\n",
       "mean     178.361583    178.902917    199.913250     163.68275\n",
       "std       13.173594     14.957114     16.539033      15.08508\n",
       "min      138.300000    140.550000    159.690000     124.06000\n",
       "25%      170.335000    168.025000    188.232500     154.05000\n",
       "50%      178.530000    178.870000    199.805000     164.42500\n",
       "75%      186.535000    189.112500    211.332500     172.88250\n",
       "max      216.390000    217.860000    238.700000     205.18000"
      ]
     },
     "execution_count": 17,
     "metadata": {},
     "output_type": "execute_result"
    }
   ],
   "source": [
    "labtat.describe()"
   ]
  },
  {
   "cell_type": "code",
   "execution_count": 18,
   "id": "a53a0ab3",
   "metadata": {},
   "outputs": [
    {
     "name": "stdout",
     "output_type": "stream",
     "text": [
      "<class 'pandas.core.frame.DataFrame'>\n",
      "RangeIndex: 120 entries, 0 to 119\n",
      "Data columns (total 4 columns):\n",
      " #   Column        Non-Null Count  Dtype  \n",
      "---  ------        --------------  -----  \n",
      " 0   Laboratory 1  120 non-null    float64\n",
      " 1   Laboratory 2  120 non-null    float64\n",
      " 2   Laboratory 3  120 non-null    float64\n",
      " 3   Laboratory 4  120 non-null    float64\n",
      "dtypes: float64(4)\n",
      "memory usage: 3.9 KB\n"
     ]
    }
   ],
   "source": [
    "labtat.info()"
   ]
  },
  {
   "cell_type": "code",
   "execution_count": 27,
   "id": "88f7ee31",
   "metadata": {},
   "outputs": [
    {
     "data": {
      "text/plain": [
       "(0      185.35\n",
       " 1      170.49\n",
       " 2      192.77\n",
       " 3      177.33\n",
       " 4      193.41\n",
       "         ...  \n",
       " 115    178.49\n",
       " 116    176.08\n",
       " 117    202.48\n",
       " 118    182.40\n",
       " 119    182.09\n",
       " Name: Laboratory 1, Length: 120, dtype: float64,\n",
       " 0      165.53\n",
       " 1      185.91\n",
       " 2      194.92\n",
       " 3      183.00\n",
       " 4      169.57\n",
       "         ...  \n",
       " 115    170.66\n",
       " 116    183.98\n",
       " 117    174.54\n",
       " 118    197.18\n",
       " 119    215.17\n",
       " Name: Laboratory 2, Length: 120, dtype: float64,\n",
       " 0      176.70\n",
       " 1      198.45\n",
       " 2      201.23\n",
       " 3      199.61\n",
       " 4      204.63\n",
       "         ...  \n",
       " 115    193.80\n",
       " 116    215.25\n",
       " 117    203.99\n",
       " 118    194.52\n",
       " 119    221.49\n",
       " Name: Laboratory 3, Length: 120, dtype: float64,\n",
       " 0      166.13\n",
       " 1      160.79\n",
       " 2      185.18\n",
       " 3      176.42\n",
       " 4      152.60\n",
       "         ...  \n",
       " 115    172.68\n",
       " 116    177.64\n",
       " 117    170.27\n",
       " 118    150.87\n",
       " 119    162.21\n",
       " Name: Laboratory 4, Length: 120, dtype: float64)"
      ]
     },
     "execution_count": 27,
     "metadata": {},
     "output_type": "execute_result"
    }
   ],
   "source": [
    "lab0= labtat.iloc[:,0]; lab1= labtat.iloc[:,1]; lab2= labtat.iloc[:,2] ; lab3= labtat.iloc[:,3]\n",
    "lab0,lab1,lab2,lab3"
   ]
  },
  {
   "cell_type": "code",
   "execution_count": 28,
   "id": "ce8f9d42",
   "metadata": {},
   "outputs": [
    {
     "name": "stdout",
     "output_type": "stream",
     "text": [
      "2.1156708949992414e-57\n"
     ]
    }
   ],
   "source": [
    "test_statistic , p = stats.f_oneway(lab0,lab1,lab2,lab3)\n",
    "print(p)"
   ]
  },
  {
   "cell_type": "code",
   "execution_count": 29,
   "id": "78a8a880",
   "metadata": {},
   "outputs": [
    {
     "name": "stdout",
     "output_type": "stream",
     "text": [
      "reject Null Hypothesis there is a significance difference between TAT of reports of the laboratories\n"
     ]
    }
   ],
   "source": [
    "alpha = 0.05\n",
    "if p <= alpha:\n",
    "    print('reject Null Hypothesis there is a significance difference between TAT of reports of the laboratories')\n",
    "else:\n",
    "    print('fail to reject Null hypothesis')"
   ]
  },
  {
   "cell_type": "markdown",
   "id": "ef09e517",
   "metadata": {},
   "source": [
    "# Question 3"
   ]
  },
  {
   "cell_type": "markdown",
   "id": "88254ebc",
   "metadata": {},
   "source": [
    "# Hypothesis Testing Exercise"
   ]
  },
  {
   "cell_type": "markdown",
   "id": "4ac5a826",
   "metadata": {},
   "source": [
    "### Sales of products in four different regions is tabulated for males and females. Find if male-female buyer rations are similar across regions."
   ]
  },
  {
   "cell_type": "code",
   "execution_count": 35,
   "id": "31152c6a",
   "metadata": {},
   "outputs": [
    {
     "data": {
      "text/html": [
       "<div>\n",
       "<style scoped>\n",
       "    .dataframe tbody tr th:only-of-type {\n",
       "        vertical-align: middle;\n",
       "    }\n",
       "\n",
       "    .dataframe tbody tr th {\n",
       "        vertical-align: top;\n",
       "    }\n",
       "\n",
       "    .dataframe thead th {\n",
       "        text-align: right;\n",
       "    }\n",
       "</style>\n",
       "<table border=\"1\" class=\"dataframe\">\n",
       "  <thead>\n",
       "    <tr style=\"text-align: right;\">\n",
       "      <th></th>\n",
       "      <th>East</th>\n",
       "      <th>West</th>\n",
       "      <th>North</th>\n",
       "      <th>South</th>\n",
       "    </tr>\n",
       "    <tr>\n",
       "      <th>Observed Values</th>\n",
       "      <th></th>\n",
       "      <th></th>\n",
       "      <th></th>\n",
       "      <th></th>\n",
       "    </tr>\n",
       "  </thead>\n",
       "  <tbody>\n",
       "    <tr>\n",
       "      <th>Males</th>\n",
       "      <td>50</td>\n",
       "      <td>142</td>\n",
       "      <td>131</td>\n",
       "      <td>70</td>\n",
       "    </tr>\n",
       "    <tr>\n",
       "      <th>Females</th>\n",
       "      <td>435</td>\n",
       "      <td>1523</td>\n",
       "      <td>1356</td>\n",
       "      <td>750</td>\n",
       "    </tr>\n",
       "  </tbody>\n",
       "</table>\n",
       "</div>"
      ],
      "text/plain": [
       "                 East  West  North  South\n",
       "Observed Values                          \n",
       "Males              50   142    131     70\n",
       "Females           435  1523   1356    750"
      ]
     },
     "execution_count": 35,
     "metadata": {},
     "output_type": "execute_result"
    }
   ],
   "source": [
    "buyer = pd.read_csv(\"BuyerRatio.csv\", index_col=0)\n",
    "buyer"
   ]
  },
  {
   "cell_type": "code",
   "execution_count": 42,
   "id": "888ffe54",
   "metadata": {},
   "outputs": [
    {
     "name": "stdout",
     "output_type": "stream",
     "text": [
      "stat:  1.595945538661058 \n",
      " p:  0.6603094907091882 \n",
      " dof:  3 \n",
      " exp:  [[  42.76531299  146.81287862  131.11756787   72.30424052]\n",
      " [ 442.23468701 1518.18712138 1355.88243213  747.69575948]]\n"
     ]
    }
   ],
   "source": [
    "stat, p, dof, exp = stats.chi2_contingency(buyer) \n",
    "print(\"stat: \", stat,\"\\n\",\"p: \", p,\"\\n\", \"dof: \", dof,\"\\n\", \"exp: \", exp)"
   ]
  },
  {
   "cell_type": "code",
   "execution_count": 43,
   "id": "fa8cec90",
   "metadata": {},
   "outputs": [],
   "source": [
    "observed = np.array([50, 142, 131, 70, 435, 1523, 1356, 750])\n",
    "expected = np.array([42.76531299,  146.81287862,  131.11756787, 72.30424052, 442.23468701, 1518.18712138, 1355.88243213, 747.69575948])"
   ]
  },
  {
   "cell_type": "code",
   "execution_count": 45,
   "id": "f98577ba",
   "metadata": {},
   "outputs": [
    {
     "name": "stdout",
     "output_type": "stream",
     "text": [
      "Statistics =  1.5959455390914483 \n",
      " P =  0.8095206646905712\n"
     ]
    }
   ],
   "source": [
    "statistics, p = stats.chisquare(observed, expected, ddof = 3)\n",
    "print(\"Statistics = \",statistics,\"\\n\",'P = ', p)"
   ]
  },
  {
   "cell_type": "code",
   "execution_count": 46,
   "id": "fc474c9e",
   "metadata": {},
   "outputs": [
    {
     "name": "stdout",
     "output_type": "stream",
     "text": [
      "fail to reject Null hypothesis\n"
     ]
    }
   ],
   "source": [
    "alpha = 0.05\n",
    "if p <= alpha:\n",
    "    print('reject Null Hypothesis there is a significance difference between TAT of reports of the laboratories')\n",
    "else:\n",
    "    print('fail to reject Null hypothesis')"
   ]
  },
  {
   "cell_type": "markdown",
   "id": "f555d94b",
   "metadata": {},
   "source": [
    "# Question 4"
   ]
  },
  {
   "cell_type": "markdown",
   "id": "1c1c9d51",
   "metadata": {},
   "source": [
    "# Hypothesis Testing Exercise"
   ]
  },
  {
   "cell_type": "markdown",
   "id": "a9e8616c",
   "metadata": {},
   "source": [
    "### TeleCall uses 4 centers around the globe to process customer order forms. They audit a certain %  of the customer order forms. Any error in order form renders it defective and has to be reworked before processing.  The manager wants to check whether the defective %  varies by centre. Please analyze the data at 5% significance level and help the manager draw appropriate inferences\n"
   ]
  },
  {
   "cell_type": "markdown",
   "id": "83cf6fec",
   "metadata": {},
   "source": [
    "##### H0 : mu_1 = mu_2 = mu_3 = mu_4\n",
    "##### H1 : Atleast One of them is Differente"
   ]
  },
  {
   "cell_type": "code",
   "execution_count": 49,
   "id": "45f6db17",
   "metadata": {},
   "outputs": [
    {
     "data": {
      "text/html": [
       "<div>\n",
       "<style scoped>\n",
       "    .dataframe tbody tr th:only-of-type {\n",
       "        vertical-align: middle;\n",
       "    }\n",
       "\n",
       "    .dataframe tbody tr th {\n",
       "        vertical-align: top;\n",
       "    }\n",
       "\n",
       "    .dataframe thead th {\n",
       "        text-align: right;\n",
       "    }\n",
       "</style>\n",
       "<table border=\"1\" class=\"dataframe\">\n",
       "  <thead>\n",
       "    <tr style=\"text-align: right;\">\n",
       "      <th></th>\n",
       "      <th>Phillippines</th>\n",
       "      <th>Indonesia</th>\n",
       "      <th>Malta</th>\n",
       "      <th>India</th>\n",
       "    </tr>\n",
       "  </thead>\n",
       "  <tbody>\n",
       "    <tr>\n",
       "      <th>0</th>\n",
       "      <td>Error Free</td>\n",
       "      <td>Error Free</td>\n",
       "      <td>Defective</td>\n",
       "      <td>Error Free</td>\n",
       "    </tr>\n",
       "    <tr>\n",
       "      <th>1</th>\n",
       "      <td>Error Free</td>\n",
       "      <td>Error Free</td>\n",
       "      <td>Error Free</td>\n",
       "      <td>Defective</td>\n",
       "    </tr>\n",
       "    <tr>\n",
       "      <th>2</th>\n",
       "      <td>Error Free</td>\n",
       "      <td>Defective</td>\n",
       "      <td>Defective</td>\n",
       "      <td>Error Free</td>\n",
       "    </tr>\n",
       "    <tr>\n",
       "      <th>3</th>\n",
       "      <td>Error Free</td>\n",
       "      <td>Error Free</td>\n",
       "      <td>Error Free</td>\n",
       "      <td>Error Free</td>\n",
       "    </tr>\n",
       "    <tr>\n",
       "      <th>4</th>\n",
       "      <td>Error Free</td>\n",
       "      <td>Error Free</td>\n",
       "      <td>Defective</td>\n",
       "      <td>Error Free</td>\n",
       "    </tr>\n",
       "  </tbody>\n",
       "</table>\n",
       "</div>"
      ],
      "text/plain": [
       "  Phillippines   Indonesia       Malta       India\n",
       "0   Error Free  Error Free   Defective  Error Free\n",
       "1   Error Free  Error Free  Error Free   Defective\n",
       "2   Error Free   Defective   Defective  Error Free\n",
       "3   Error Free  Error Free  Error Free  Error Free\n",
       "4   Error Free  Error Free   Defective  Error Free"
      ]
     },
     "execution_count": 49,
     "metadata": {},
     "output_type": "execute_result"
    }
   ],
   "source": [
    "center = pd.read_csv(\"CustomerOrderForm.csv\")\n",
    "center.head()"
   ]
  },
  {
   "cell_type": "code",
   "execution_count": 50,
   "id": "292d44d2",
   "metadata": {},
   "outputs": [
    {
     "data": {
      "text/html": [
       "<div>\n",
       "<style scoped>\n",
       "    .dataframe tbody tr th:only-of-type {\n",
       "        vertical-align: middle;\n",
       "    }\n",
       "\n",
       "    .dataframe tbody tr th {\n",
       "        vertical-align: top;\n",
       "    }\n",
       "\n",
       "    .dataframe thead th {\n",
       "        text-align: right;\n",
       "    }\n",
       "</style>\n",
       "<table border=\"1\" class=\"dataframe\">\n",
       "  <thead>\n",
       "    <tr style=\"text-align: right;\">\n",
       "      <th></th>\n",
       "      <th>Phillippines</th>\n",
       "      <th>Indonesia</th>\n",
       "      <th>Malta</th>\n",
       "      <th>India</th>\n",
       "    </tr>\n",
       "  </thead>\n",
       "  <tbody>\n",
       "    <tr>\n",
       "      <th>count</th>\n",
       "      <td>300</td>\n",
       "      <td>300</td>\n",
       "      <td>300</td>\n",
       "      <td>300</td>\n",
       "    </tr>\n",
       "    <tr>\n",
       "      <th>unique</th>\n",
       "      <td>2</td>\n",
       "      <td>2</td>\n",
       "      <td>2</td>\n",
       "      <td>2</td>\n",
       "    </tr>\n",
       "    <tr>\n",
       "      <th>top</th>\n",
       "      <td>Error Free</td>\n",
       "      <td>Error Free</td>\n",
       "      <td>Error Free</td>\n",
       "      <td>Error Free</td>\n",
       "    </tr>\n",
       "    <tr>\n",
       "      <th>freq</th>\n",
       "      <td>271</td>\n",
       "      <td>267</td>\n",
       "      <td>269</td>\n",
       "      <td>280</td>\n",
       "    </tr>\n",
       "  </tbody>\n",
       "</table>\n",
       "</div>"
      ],
      "text/plain": [
       "       Phillippines   Indonesia       Malta       India\n",
       "count           300         300         300         300\n",
       "unique            2           2           2           2\n",
       "top      Error Free  Error Free  Error Free  Error Free\n",
       "freq            271         267         269         280"
      ]
     },
     "execution_count": 50,
     "metadata": {},
     "output_type": "execute_result"
    }
   ],
   "source": [
    "center.describe()"
   ]
  },
  {
   "cell_type": "code",
   "execution_count": 51,
   "id": "09ebf0e7",
   "metadata": {},
   "outputs": [
    {
     "name": "stdout",
     "output_type": "stream",
     "text": [
      "<class 'pandas.core.frame.DataFrame'>\n",
      "RangeIndex: 300 entries, 0 to 299\n",
      "Data columns (total 4 columns):\n",
      " #   Column        Non-Null Count  Dtype \n",
      "---  ------        --------------  ----- \n",
      " 0   Phillippines  300 non-null    object\n",
      " 1   Indonesia     300 non-null    object\n",
      " 2   Malta         300 non-null    object\n",
      " 3   India         300 non-null    object\n",
      "dtypes: object(4)\n",
      "memory usage: 9.5+ KB\n"
     ]
    }
   ],
   "source": [
    "center.info()"
   ]
  },
  {
   "cell_type": "code",
   "execution_count": 54,
   "id": "f8f9a852",
   "metadata": {},
   "outputs": [
    {
     "name": "stdout",
     "output_type": "stream",
     "text": [
      "Phillippines\n",
      "Error Free    271\n",
      "Defective      29\n",
      "Name: count, dtype: int64 \n",
      " Indonesia\n",
      "Error Free    267\n",
      "Defective      33\n",
      "Name: count, dtype: int64 \n",
      " Malta\n",
      "Error Free    269\n",
      "Defective      31\n",
      "Name: count, dtype: int64 \n",
      " India\n",
      "Error Free    280\n",
      "Defective      20\n",
      "Name: count, dtype: int64\n"
     ]
    }
   ],
   "source": [
    "print(center['Phillippines'].value_counts(),'\\n',center['Indonesia'].value_counts(),'\\n',center['Malta'].value_counts(),'\\n',center['India'].value_counts())"
   ]
  },
  {
   "cell_type": "code",
   "execution_count": 55,
   "id": "f8211787",
   "metadata": {},
   "outputs": [],
   "source": [
    "conting_table = [[271,267,269,280],\n",
    "                    [29,33,31,20]]"
   ]
  },
  {
   "cell_type": "code",
   "execution_count": 57,
   "id": "e20659b5",
   "metadata": {},
   "outputs": [
    {
     "name": "stdout",
     "output_type": "stream",
     "text": [
      "Statistics =  3.858960685820355 \n",
      " P_Value =  0.2771020991233135 \n",
      " degree of freedom = 3 \n",
      " Expected Values =  [[271.75 271.75 271.75 271.75]\n",
      " [ 28.25  28.25  28.25  28.25]]\n"
     ]
    }
   ],
   "source": [
    "stat, p, df, exp = stats.chi2_contingency(conting_table)\n",
    "print(\"Statistics = \",stat,\"\\n\",'P = ', p,'\\n', 'degree of freedom =', df,'\\n', 'Expected Values = ', exp)"
   ]
  },
  {
   "cell_type": "code",
   "execution_count": 58,
   "id": "c3880880",
   "metadata": {},
   "outputs": [],
   "source": [
    "observed = np.array([271, 267, 269, 280, 29, 33, 31, 20])\n",
    "expected = np.array([271.75, 271.75, 271.75, 271.75, 28.25, 28.25, 28.25, 28.25])"
   ]
  },
  {
   "cell_type": "code",
   "execution_count": 59,
   "id": "a3c93274",
   "metadata": {},
   "outputs": [
    {
     "name": "stdout",
     "output_type": "stream",
     "text": [
      "Test Statistic =  3.858960685820355 \n",
      " p = 0.4254298144535761\n"
     ]
    }
   ],
   "source": [
    "t_statistic , p = stats.chisquare(observed, expected, ddof = df)\n",
    "print(\"Test Statistic = \",t_statistic,'\\n', 'p =',p)"
   ]
  },
  {
   "cell_type": "code",
   "execution_count": 61,
   "id": "5a799668",
   "metadata": {},
   "outputs": [
    {
     "name": "stdout",
     "output_type": "stream",
     "text": [
      "fail to reject Null hypothesis\n"
     ]
    }
   ],
   "source": [
    "alpha = 0.05\n",
    "if p <= alpha:\n",
    "    print('reject Null Hypothesis there is a significance difference between TAT of reports of the laboratories')\n",
    "else:\n",
    "    print('fail to reject Null hypothesis')"
   ]
  },
  {
   "cell_type": "code",
   "execution_count": null,
   "id": "b8aaf582",
   "metadata": {},
   "outputs": [],
   "source": []
  },
  {
   "cell_type": "code",
   "execution_count": null,
   "id": "49f844fa",
   "metadata": {},
   "outputs": [],
   "source": []
  }
 ],
 "metadata": {
  "kernelspec": {
   "display_name": "Python 3 (ipykernel)",
   "language": "python",
   "name": "python3"
  },
  "language_info": {
   "codemirror_mode": {
    "name": "ipython",
    "version": 3
   },
   "file_extension": ".py",
   "mimetype": "text/x-python",
   "name": "python",
   "nbconvert_exporter": "python",
   "pygments_lexer": "ipython3",
   "version": "3.11.5"
  }
 },
 "nbformat": 4,
 "nbformat_minor": 5
}
